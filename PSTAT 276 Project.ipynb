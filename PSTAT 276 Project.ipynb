{
 "cells": [
  {
   "cell_type": "markdown",
   "metadata": {},
   "source": [
    "# PSTAT 176/276 Project #"
   ]
  },
  {
   "cell_type": "markdown",
   "metadata": {},
   "source": [
    "# Initialization"
   ]
  },
  {
   "cell_type": "code",
   "execution_count": 1,
   "metadata": {
    "scrolled": true
   },
   "outputs": [],
   "source": [
    "# !pip install progressbar\n",
    "# !pip install --upgrade pandas"
   ]
  },
  {
   "cell_type": "code",
   "execution_count": 2,
   "metadata": {},
   "outputs": [],
   "source": [
    "from progressbar import ProgressBar"
   ]
  },
  {
   "cell_type": "code",
   "execution_count": 3,
   "metadata": {},
   "outputs": [],
   "source": [
    "import numpy as np\n",
    "from sklearn.ensemble import RandomForestRegressor\n",
    "#from sklearn.neighbors import kneighbors_graph, NearestNeighbors\n",
    "import scipy\n",
    "import scipy.sparse as sparse\n",
    "from scipy.stats import norm\n",
    "import matplotlib.pyplot as plt"
   ]
  },
  {
   "cell_type": "markdown",
   "metadata": {},
   "source": [
    "# Problem 1\n",
    "\n",
    "Make a function StockVol to calibrate the stock volatility under geometric Brownian motion model. Input histoPrice is an array of 1-year historical prices. You can choose a\n",
    "stock that does not pay dividends for simplicity. The function should return a number that is the\n",
    "historical volatility of the stock."
   ]
  },
  {
   "cell_type": "code",
   "execution_count": 4,
   "metadata": {},
   "outputs": [],
   "source": [
    "def StockVol(histoPrice):\n",
    "    \"\"\"\n",
    "    Compute the stock volatility under GBM using 1-year historical prices\n",
    "    \n",
    "    Inputs:\n",
    "        histoPrice: an array of daily historical prices for one year\n",
    "        \n",
    "    Returns:\n",
    "        histoVol: annualized historical volatility\n",
    "    \"\"\"\n",
    "    \n",
    "    logret = np.diff(np.log(histoPrice))\n",
    "    sigma = np.sqrt(np.var(logret))\n",
    "    histoVol = sigma*np.sqrt(252)  # annualize volatility\n",
    "    \n",
    "    return histoVol"
   ]
  },
  {
   "cell_type": "markdown",
   "metadata": {},
   "source": [
    "# Problem 2\n",
    "Make a function StockPath to generate n stock paths where n is one of the inputs,\n",
    "as well as sigma which is the volatility of the stock. Other inputs needed (might not be limited to)\n",
    "are S0: current stock price; T: terminal time in yearly unit; np: number of time periods; r: interest\n",
    "rate; delta: continuous dividend yield of the stock."
   ]
  },
  {
   "cell_type": "code",
   "execution_count": 5,
   "metadata": {},
   "outputs": [],
   "source": [
    "def StockPath(n,sigma=0.2,S0=100,T=1,nump=252,r=0.01,delta = 0):\n",
    "    \"\"\"\n",
    "    Generate n stock paths\n",
    "    \n",
    "    Inputs:\n",
    "        n: number of paths generated\n",
    "        sigma: volatility of the stock\n",
    "        S0: current stock price\n",
    "        T: terminal time in yearly unit\n",
    "        nump: number of time periods\n",
    "        r: interest rate\n",
    "        delta: continuous dividend yield of the stock\n",
    "        \n",
    "    Returns:\n",
    "        S: an array of stock paths\n",
    "    \"\"\"\n",
    "    \n",
    "    X = np.zeros((n,1+nump))\n",
    "    X[:,0] = S0\n",
    "    for i in range(len(X)):\n",
    "        Z = np.random.normal(0, 1, nump)\n",
    "        X[i,1:]=np.exp(sigma*np.sqrt(T/nump)*Z+(r-delta-sigma**2/2)*(T/nump))\n",
    "    \n",
    "    S = []   \n",
    "    for i in range (n):\n",
    "        S.append(np.cumprod(X[i,:]))\n",
    "    \n",
    "    return np.array(S)"
   ]
  },
  {
   "cell_type": "markdown",
   "metadata": {},
   "source": [
    "# Problem 3\n",
    "Make a function EurOptPrice that takes the stock paths to generate the European\n",
    "put option price through Monte Carlo method. One input is n stock paths. The function should\n",
    "return the discounted payoff vector, price, and variance.\n"
   ]
  },
  {
   "cell_type": "code",
   "execution_count": 6,
   "metadata": {},
   "outputs": [],
   "source": [
    "def EurOptPrice(paths,K,r=0.01,T=1):\n",
    "    \"\"\"\n",
    "    generate the European put option price through Monte Carlo method\n",
    "    \n",
    "    Inputs:\n",
    "        paths: an array of stock paths\n",
    "        K: strike price\n",
    "        r: interest rate\n",
    "        T: terminal time\n",
    "        \n",
    "    Returns:\n",
    "        Payoff: discounted payoffs\n",
    "        price: estimated price of the European put option\n",
    "        variance: variance of discounted payoffs\n",
    "        \n",
    "    \"\"\"\n",
    "    \n",
    "    Payoff = np.maximum(K-paths[:,-1],0)*np.exp(-r*T)\n",
    "    price = np.mean(Payoff)\n",
    "    variance = np.var(Payoff)\n",
    "    \n",
    "    return (Payoff,price,variance)\n",
    "    "
   ]
  },
  {
   "cell_type": "markdown",
   "metadata": {},
   "source": [
    "# Problem 4\n",
    "Make a function AmeOptPrice that takes the stock paths to generate the American put option price without control variates. The function should return the discounted payoff\n",
    "vector, price, and variance. In this part, you will need to implement some regression method and\n",
    "you are required to do it by using machine learning or deep learning. Make sure to explain what\n",
    "you did in the analysis file."
   ]
  },
  {
   "cell_type": "code",
   "execution_count": 7,
   "metadata": {},
   "outputs": [],
   "source": [
    "def AmeOptPrice(paths,K,r=0.01,T=1,nump = 252,delta = 0,sigma=0.2):\n",
    "    \"\"\"\n",
    "    generate the American put option price without control variable\n",
    "    \n",
    "    Inputs:\n",
    "        paths: an array of stock paths\n",
    "        K: strike price\n",
    "        r: interest rate\n",
    "        T: terminal time\n",
    "        nump: number of periods\n",
    "        \n",
    "    Returns:\n",
    "        Payoff: discounted payoffs\n",
    "        price: estimated price of the American put option\n",
    "        variance: variance of discounted payoffs\n",
    "        \n",
    "    \"\"\"\n",
    "    deltaT = T/nump\n",
    "    P = np.maximum(K-paths,0)  # payoffs if early exercise\n",
    "    H = np.zeros(paths.shape)  # holding value\n",
    "    V = np.zeros(paths.shape)  # value of the option\n",
    "    \n",
    "    H[:,-1] = P[:,-1]\n",
    "    V[:,-1] = P[:,-1]\n",
    "    \n",
    "    # compute the expected payoff at termial time given S_(T-1) using one step monte carlo\n",
    "    tmp = paths[:,-2]\n",
    "    for i in range(len(paths)):\n",
    "        tmp_Price = StockPath(100,sigma,tmp[i],deltaT,1,r,delta)\n",
    "        tmp_payoff = np.maximum(K-tmp_Price[:,-1],0)*np.exp(-r*deltaT)\n",
    "        H[i,-2] = np.mean(tmp_payoff)\n",
    "    V[:,-2] = np.maximum(P[:,-2], H[:,-2])  # value of the option at t = T-1\n",
    "    \n",
    "    rf = RandomForestRegressor(n_estimators=30, n_jobs=-1)  #Define Random Forest Regressor \n",
    "    \n",
    "    pbar = ProgressBar()\n",
    "    for i in pbar(range(2,len(V[0]))):\n",
    "        X = paths[:,-i].reshape(-1,1)\n",
    "        Y = V[:,-i].reshape(-1,1)\n",
    "        \n",
    "        reg = rf.fit(X, Y.ravel())  # Polynomial regression (degree = 5)\n",
    "        \n",
    "        tmp = paths[:,-i-1]\n",
    "        for j in range(len(paths)):\n",
    "            tmp_Price = StockPath(100,sigma,tmp[j],deltaT,1,r,delta)\n",
    "            tmp_V = rf.predict(tmp_Price.reshape(-1,1))*np.exp(-r*deltaT)\n",
    "            H[j,-i-1] = np.mean(tmp_V)\n",
    "        V[:,-i-1] = np.maximum(P[:,-i-1], H[:,-i-1])\n",
    " \n",
    "    #Determine the optimal stopping time and payoffs\n",
    "    Payoff = [0]*len(P)\n",
    "    for i in range(len(P)):\n",
    "        idx = np.where(P[i,:]> H[i,:])[0]\n",
    "        if(len(idx) == 0):\n",
    "            Payoff[i] = V[i,-1]*np.exp(-r*T)\n",
    "        else:\n",
    "            Payoff[i] = V[i,idx[0]]*np.exp(-r*idx[0]*deltaT)\n",
    "\n",
    "    price = np.mean(Payoff)\n",
    "    variance = np.var(Payoff)\n",
    "    \n",
    "    return(Payoff, price, variance)    "
   ]
  },
  {
   "cell_type": "markdown",
   "metadata": {},
   "source": [
    "We chose to use Random Forest to build the AmePut function because Random Forest is a powerful algorithm in Machine Learning, can be used to solve regression problems, and works well with continuous variables. Also, compared to decision trees, Random Forest reduces the variance and hence improves the accuracy. "
   ]
  },
  {
   "cell_type": "markdown",
   "metadata": {},
   "source": [
    "# Problem 5\n",
    "Make a function ContVariate to implement the control variates method. Note that\n",
    "this part is independent of the prices you computed. You should be able to apply this function to\n",
    "any vectors and estimations."
   ]
  },
  {
   "cell_type": "code",
   "execution_count": 8,
   "metadata": {},
   "outputs": [],
   "source": [
    "def ContVariate(y,x,mu_x):\n",
    "    \"\"\"\n",
    "    Implement the control variates method\n",
    "    \n",
    "    Inputs:\n",
    "        y: an array of samples with unknown mean\n",
    "        x: an array of samples with known or estimated mean\n",
    "        mu_x: mean of random variable X\n",
    "        \n",
    "    Returns:\n",
    "        y_hat: estimated mean of y\n",
    "        y_hatVar: variance of the estimator\n",
    "        \n",
    "    \"\"\"\n",
    "    \n",
    "    x_bar = np.mean(x)\n",
    "    y_bar = np.mean(y)\n",
    "    y_var = np.var(y)\n",
    "    corr = np.corrcoef(x,y)[0,1]\n",
    "    \n",
    "    beta = beta = np.cov(x,y)[0,1]/np.var(x)\n",
    "    y_hat = y_bar+beta*(mu_x-x_bar)\n",
    "    y_hatVar = (np.var(y)/len(y))*(1-corr**2)\n",
    "    \n",
    "    return(y_hat,y_hatVar)"
   ]
  },
  {
   "cell_type": "code",
   "execution_count": 9,
   "metadata": {},
   "outputs": [],
   "source": [
    "def BSput(S0, K, T, r, sigma,q):\n",
    "    \"\"\"\n",
    "    Compute true price of the European put using BS formula\n",
    "    \n",
    "    Inputs:\n",
    "        S0: current stock price\n",
    "        K: strike price\n",
    "        T: termial time\n",
    "        r: interest rate\n",
    "        sigma: volatility\n",
    "        q: continuous dividend\n",
    "        \n",
    "    Output:\n",
    "        price: price of the option\n",
    "    \"\"\"\n",
    "    \n",
    "    d1 = (np.log(S0 / K) + (r - q + 0.5 * sigma ** 2) * T) / (sigma * np.sqrt(T))\n",
    "    d2 = (np.log(S0 / K) + (r - q - 0.5 * sigma ** 2) * T) / (sigma * np.sqrt(T))\n",
    "    \n",
    "    price = (K * np.exp(-r * T) * norm.cdf(-d2, 0.0, 1.0) - S0 * norm.cdf(-d1, 0.0, 1.0))\n",
    "    \n",
    "    return price"
   ]
  },
  {
   "cell_type": "markdown",
   "metadata": {},
   "source": [
    "# Problem 6\n",
    "Choose your favorite underlying stock and a corresponding put option that expires in\n",
    "1 year. Use 1 year libor yield as the interest rate. You also need to compute the continuous dividend\n",
    "yield. Apply the ContVariate function to the American put option price you computed. Do the\n",
    "analysis as if you want to convince your manager that this is the right way to estimate the price of\n",
    "American style option."
   ]
  },
  {
   "cell_type": "markdown",
   "metadata": {},
   "source": [
    "## McDonald's Stock Analysis"
   ]
  },
  {
   "cell_type": "markdown",
   "metadata": {},
   "source": [
    "For this part, we decided to use two stocks to test our AmeOptPrice function. The first stock we chose is McDonald's Corporation (MCD). There are 252 trading days in total between June 5, 2019 and June 3, 2020. During this period, MCD paid dividends on Aug 30 2019, Nov 29 2019, Feb 28 2020, and May 29 2020. The dividends are 1.16, 1.25, 1.25, and 1.25 respectively. The stock prices are 217.97, 194.48, 194.17, and 186.32 respectively."
   ]
  },
  {
   "cell_type": "code",
   "execution_count": 10,
   "metadata": {},
   "outputs": [],
   "source": [
    "import pandas as pd\n",
    "MCD = pd.read_excel('data/MCD.xlsx')"
   ]
  },
  {
   "cell_type": "code",
   "execution_count": 11,
   "metadata": {},
   "outputs": [],
   "source": [
    "#extract the LIBOR rate on June 3, 2020 and historical closing prices from the excel \n",
    "LIBOR = np.array(pd.DataFrame(MCD, columns=['LIBOR']))\n",
    "closingPrice = np.array(pd.DataFrame(MCD, columns=['Close']))\n",
    "histoPrice = np.zeros((1,252))\n",
    "for i in range(0,252):\n",
    "    histoPrice[0,i] = closingPrice[i][0]\n",
    "#calculate the interest rate and continuous dividend yield\n",
    "r = LIBOR[-1]/100\n",
    "delta = np.log((1+(1.16/217.97))*(1+(1.25/194.48))*(1+(1.25/194.17))*(1+(1.25/186.32)))\n",
    "sigma = StockVol(histoPrice)"
   ]
  },
  {
   "cell_type": "code",
   "execution_count": 18,
   "metadata": {
    "scrolled": true
   },
   "outputs": [
    {
     "name": "stderr",
     "output_type": "stream",
     "text": [
      "100% |########################################################################|\r"
     ]
    },
    {
     "name": "stdout",
     "output_type": "stream",
     "text": [
      "36.644608774445494\n"
     ]
    },
    {
     "name": "stderr",
     "output_type": "stream",
     "text": [
      "\n"
     ]
    }
   ],
   "source": [
    "# Warning!!! Takes one hour to run!!\n",
    "#compute the price of the American put on MCD\n",
    "paths = StockPath(100,sigma,histoPrice[0][-1],1,252,r[0],delta)\n",
    "AmePut = AmeOptPrice(paths,200,r[0],1,252,delta,sigma)\n",
    "print(AmePut[1])"
   ]
  },
  {
   "cell_type": "code",
   "execution_count": 12,
   "metadata": {},
   "outputs": [
    {
     "name": "stderr",
     "output_type": "stream",
     "text": [
      "100% |########################################################################|\r"
     ]
    },
    {
     "name": "stdout",
     "output_type": "stream",
     "text": [
      "36.82008752419903\n"
     ]
    },
    {
     "name": "stderr",
     "output_type": "stream",
     "text": [
      "\n"
     ]
    }
   ],
   "source": [
    "paths = StockPath(100,sigma,histoPrice[0][-1],1,50,r[0],delta)\n",
    "AmePut = AmeOptPrice(paths,200,r[0],1,50,delta,sigma)\n",
    "print(AmePut[1])"
   ]
  },
  {
   "cell_type": "code",
   "execution_count": 13,
   "metadata": {
    "scrolled": true
   },
   "outputs": [
    {
     "name": "stdout",
     "output_type": "stream",
     "text": [
      "33.60733581303151\n",
      "35.87319236371568\n",
      "35.119590759461495\n"
     ]
    }
   ],
   "source": [
    "#compute the true price of the American put by using the Black-Scholes model \n",
    "truePrice = BSput(histoPrice[0][-1], 200, 1, r, sigma, delta)\n",
    "print(truePrice[0])\n",
    "#compute the price of the European put on MCD\n",
    "EurPut = EurOptPrice(paths, 200, r, 1)\n",
    "print(EurPut[1])\n",
    "#apply the ContVariate function\n",
    "y_hat,y_hatVar = ContVariate(AmePut[0], EurPut[0], truePrice)\n",
    "print(y_hat[0])"
   ]
  },
  {
   "cell_type": "markdown",
   "metadata": {},
   "source": [
    "## Apple Stock Analysis"
   ]
  },
  {
   "cell_type": "markdown",
   "metadata": {},
   "source": [
    "The second stock we chose is Apple Inc. (AAPL). There are 252 trading days in total between June 6, 2019 and June 4, 2020. During this period, AAPL paid dividends on Aug 9 2019, Nov 7 2019, Feb 7 2020, and May 8 2020. The dividends are 0.77, 0.77, 0.77, and 0.82 respectively. The stock prices are 200.99, 259.43, 320.03, and 310.13 respectively."
   ]
  },
  {
   "cell_type": "code",
   "execution_count": 14,
   "metadata": {},
   "outputs": [],
   "source": [
    "AAPL = pd.read_excel('data/AAPL.xlsx')"
   ]
  },
  {
   "cell_type": "code",
   "execution_count": 15,
   "metadata": {},
   "outputs": [],
   "source": [
    "LIBOR = np.array(pd.DataFrame(AAPL, columns=['LIBOR']))\n",
    "closingPrice = np.array(pd.DataFrame(AAPL, columns=['Close']))\n",
    "histoPrice = np.zeros((1,252))\n",
    "for i in range(0,252):\n",
    "    histoPrice[0,i] = closingPrice[i][0]\n",
    "r = LIBOR[-1]/100\n",
    "delta = np.log((1+(0.77/200.99))*(1+(0.77/259.43))*(1+(0.77/320.03))*(1+(0.82/310.13)))\n",
    "sigma = StockVol(histoPrice)"
   ]
  },
  {
   "cell_type": "code",
   "execution_count": 35,
   "metadata": {
    "scrolled": true
   },
   "outputs": [
    {
     "name": "stderr",
     "output_type": "stream",
     "text": [
      "100% |########################################################################|\r"
     ]
    },
    {
     "name": "stdout",
     "output_type": "stream",
     "text": [
      "6.417996824449607\n"
     ]
    },
    {
     "name": "stderr",
     "output_type": "stream",
     "text": [
      "\n"
     ]
    }
   ],
   "source": [
    "# Warning!!! takes two hours to run!!\n",
    "paths = StockPath(100,sigma,histoPrice[0][-1],1,252,r[0],delta)\n",
    "AmePut = AmeOptPrice(paths,200,r[0],1,252,delta,sigma)\n",
    "print(AmePut[1])"
   ]
  },
  {
   "cell_type": "code",
   "execution_count": 16,
   "metadata": {
    "scrolled": true
   },
   "outputs": [
    {
     "name": "stderr",
     "output_type": "stream",
     "text": [
      "100% |########################################################################|\r"
     ]
    },
    {
     "name": "stdout",
     "output_type": "stream",
     "text": [
      "5.647393087230041\n"
     ]
    },
    {
     "name": "stderr",
     "output_type": "stream",
     "text": [
      "\n"
     ]
    }
   ],
   "source": [
    "paths = StockPath(100,sigma,histoPrice[0][-1],1,50,r[0],delta)\n",
    "AmePut = AmeOptPrice(paths,200,r[0],1,50,delta,sigma)\n",
    "print(AmePut[1])"
   ]
  },
  {
   "cell_type": "code",
   "execution_count": 17,
   "metadata": {},
   "outputs": [
    {
     "name": "stdout",
     "output_type": "stream",
     "text": [
      "5.450932712910284\n",
      "7.28148342186568\n",
      "4.415438665950369\n"
     ]
    }
   ],
   "source": [
    "#apply the Black-Scholes model \n",
    "truePrice = BSput(histoPrice[0][-1], 200, 1, r, sigma, delta)\n",
    "print(truePrice[0])\n",
    "#compute the price of the European put on AAPL\n",
    "EurPut = EurOptPrice(paths, 200, r, 1)\n",
    "print(EurPut[1])\n",
    "#apply the ContVariate function\n",
    "y_hat,y_hatVar = ContVariate(AmePut[0], EurPut[0], truePrice)\n",
    "print(y_hat[0])"
   ]
  },
  {
   "cell_type": "markdown",
   "metadata": {},
   "source": [
    "The American put option we chose for MCD is MCD210618P00200000 with strike price 200. Its last price, bid price, and ask price are 34.70, 38.75, and 41.45 respectively. The American put option we chose for AAPL is AAPL210618P00400000 with strike price 400. Its last price is 84.85. Bid and ask prices are not available. (All information is from Yahoo Finance.) From the results above, we can see that the price of the American put option calculated by function AmePut is very close to the market last price in both cases. In addition, the price of the American put is greater than the price of the European put which satisfies the general relationship between American and European put options. The option price estimated by the ContVariate function is also very similar to the price calculated by the AmePut function for both stocks, which further proved that function AmePut is the right way to estimated the price of American style options. "
   ]
  }
 ],
 "metadata": {
  "kernelspec": {
   "display_name": "Python 3",
   "language": "python",
   "name": "python3"
  },
  "language_info": {
   "codemirror_mode": {
    "name": "ipython",
    "version": 3
   },
   "file_extension": ".py",
   "mimetype": "text/x-python",
   "name": "python",
   "nbconvert_exporter": "python",
   "pygments_lexer": "ipython3",
   "version": "3.8.1"
  },
  "toc": {
   "base_numbering": 1,
   "nav_menu": {},
   "number_sections": true,
   "sideBar": true,
   "skip_h1_title": false,
   "title_cell": "Table of Contents",
   "title_sidebar": "Contents",
   "toc_cell": false,
   "toc_position": {},
   "toc_section_display": true,
   "toc_window_display": false
  }
 },
 "nbformat": 4,
 "nbformat_minor": 2
}
