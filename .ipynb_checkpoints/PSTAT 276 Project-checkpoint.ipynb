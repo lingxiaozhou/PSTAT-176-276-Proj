{
 "cells": [
  {
   "cell_type": "markdown",
   "metadata": {},
   "source": [
    "# PSTAT 176/276 Project #"
   ]
  },
  {
   "cell_type": "markdown",
   "metadata": {},
   "source": [
    "## Initialization"
   ]
  },
  {
   "cell_type": "code",
   "execution_count": 5,
   "metadata": {
    "scrolled": true
   },
   "outputs": [],
   "source": [
    "# !pip install --upgrade pandas\n",
    "# !pip install tqdm\n",
    "# !pip install altair"
   ]
  },
  {
   "cell_type": "code",
   "execution_count": 7,
   "metadata": {},
   "outputs": [],
   "source": [
    "from tqdm import tnrange, tqdm_notebook\n",
    "import numpy as np\n",
    "from sklearn.ensemble import RandomForestRegressor\n",
    "import scipy\n",
    "import scipy.sparse as sparse\n",
    "from scipy.stats import norm\n",
    "import matplotlib.pyplot as plt"
   ]
  },
  {
   "cell_type": "markdown",
   "metadata": {},
   "source": [
    "## Problem 1"
   ]
  },
  {
   "cell_type": "code",
   "execution_count": 8,
   "metadata": {},
   "outputs": [],
   "source": [
    "def StockVol(histoPrice):\n",
    "    \"\"\"\n",
    "    Compute the stock volatility under GBM using 1-year historical prices\n",
    "    \n",
    "    Inputs:\n",
    "        histoPrice: an array of daily historical prices for one year\n",
    "        \n",
    "    Returns:\n",
    "        histoVol: annualized historical volatility\n",
    "    \"\"\"\n",
    "    \n",
    "    logret = np.diff(np.log(histoPrice))\n",
    "    sigma = np.sqrt(np.var(logret))\n",
    "    histoVol = sigma*np.sqrt(252)  # annualize volatility\n",
    "    \n",
    "    return histoVol"
   ]
  },
  {
   "cell_type": "markdown",
   "metadata": {},
   "source": [
    "## Problem 2"
   ]
  },
  {
   "cell_type": "code",
   "execution_count": 9,
   "metadata": {},
   "outputs": [],
   "source": [
    "def StockPath(n,sigma=0.2,S0=100,T=1,nump=252,r=0.01,delta = 0):\n",
    "    \"\"\"\n",
    "    Generate n stock paths\n",
    "    \n",
    "    Inputs:\n",
    "        n: number of paths generated\n",
    "        sigma: volatility of the stock\n",
    "        S0: current stock price\n",
    "        T: terminal time in yearly unit\n",
    "        nump: number of time periods\n",
    "        r: interest rate\n",
    "        delta: continuous dividend yield of the stock\n",
    "        \n",
    "    Returns:\n",
    "        S: an array of stock paths\n",
    "    \"\"\"\n",
    "    \n",
    "    X = np.zeros((n,1+nump))\n",
    "    X[:,0] = S0\n",
    "    for i in range(len(X)):\n",
    "        Z = np.random.normal(0, 1, nump)\n",
    "        X[i,1:]=np.exp(sigma*np.sqrt(T/nump)*Z+(r-delta-sigma**2/2)*(T/nump))\n",
    "    \n",
    "    S = []   \n",
    "    for i in range (n):\n",
    "        S.append(np.cumprod(X[i,:]))\n",
    "    \n",
    "    return np.array(S)"
   ]
  },
  {
   "cell_type": "markdown",
   "metadata": {},
   "source": [
    "## Problem 3"
   ]
  },
  {
   "cell_type": "code",
   "execution_count": 10,
   "metadata": {},
   "outputs": [],
   "source": [
    "def EurOptPrice(paths,K,r=0.01,T=1):\n",
    "    \"\"\"\n",
    "    generate the European put option price through Monte Carlo method\n",
    "    \n",
    "    Inputs:\n",
    "        paths: an array of stock paths\n",
    "        K: strike price\n",
    "        r: interest rate\n",
    "        T: terminal time\n",
    "        \n",
    "    Returns:\n",
    "        Payoff: discounted payoffs\n",
    "        price: estimated price of the European put option\n",
    "        variance: variance of discounted payoffs\n",
    "        \n",
    "    \"\"\"\n",
    "    \n",
    "    Payoff = np.maximum(K-paths[:,-1],0)*np.exp(-r*T)\n",
    "    price = np.mean(Payoff)\n",
    "    variance = np.var(Payoff)\n",
    "    \n",
    "    return (Payoff,price,variance)\n",
    "    "
   ]
  },
  {
   "cell_type": "markdown",
   "metadata": {},
   "source": [
    "## Problem 4\n",
    "\n",
    "We first simulate n stock paths\n",
    "\n",
    "$$\n",
    "\\begin{bmatrix} \n",
    "S_1^{(1)} & S_2^{(1)} & \\dots\\  S_T^{(1)}\\\\\n",
    "\\vdots & \\vdots &\\ddots  \\\\\n",
    "S_1^{(n)} & S_2^{(n)} & \\dots \\ S_T^{(n)} \n",
    "\\end{bmatrix}\n",
    "$$\n",
    "\n",
    "Then we start with $S_T$ and go backwards to compute the holding value $H_i$, early exercised payoff $P_i$ and current option value $V_i$. In order to compute the holding value $H_i = \\mathbb{E}[V_{i+1}(S_{i+1})|S_i]$, we use one step monte carlo at $S_{i}$ and $V_i = \\max(H_i, P_i)$. One challenge is that we need to figure out the option value $V_i$ for different stock prices. So we fit a Random Forest Regression model between $V_i$ and $S_i$ at each step and use the model to find the option values in the next step. We choose to use Random Forest to build the model because Random Forest,a powerful algorithm in Machine Learning, can be used to solve regression problems, and works well with continuous variables. Also, compared to decision trees, Random Forest reduces the variance and hence improves the accuracy. Finally, we determine the optimal exercising time which is the first time that $P_i$ exceeds $H_i$ and compute the estimated price of the option."
   ]
  },
  {
   "cell_type": "code",
   "execution_count": 11,
   "metadata": {},
   "outputs": [],
   "source": [
    "def AmeOptPrice(paths,K,r=0.01,T=1,nump = 252,delta = 0,sigma=0.2):\n",
    "    \"\"\"\n",
    "    generate the American put option price without control variable\n",
    "    \n",
    "    Inputs:\n",
    "        paths: an array of stock paths\n",
    "        K: strike price\n",
    "        r: interest rate\n",
    "        T: terminal time\n",
    "        nump: number of periods\n",
    "        \n",
    "    Returns:\n",
    "        Payoff: discounted payoffs\n",
    "        price: estimated price of the American put option\n",
    "        variance: variance of discounted payoffs\n",
    "        \n",
    "    \"\"\"\n",
    "    deltaT = T/nump\n",
    "    P = np.maximum(K-paths,0)  # payoffs if early exercise\n",
    "    H = np.zeros(paths.shape)  # holding value\n",
    "    V = np.zeros(paths.shape)  # value of the option\n",
    "    \n",
    "    H[:,-1] = P[:,-1]\n",
    "    V[:,-1] = P[:,-1]\n",
    "    \n",
    "    # compute the expected payoff at termial time given S_(T-1) using one step monte carlo\n",
    "    tmp = paths[:,-2]\n",
    "    for i in range(len(paths)):\n",
    "        tmp_Price = StockPath(100,sigma,tmp[i],deltaT,1,r,delta)\n",
    "        tmp_payoff = np.maximum(K-tmp_Price[:,-1],0)*np.exp(-r*deltaT)\n",
    "        H[i,-2] = np.mean(tmp_payoff)\n",
    "    V[:,-2] = np.maximum(P[:,-2], H[:,-2])  # value of the option at t = T-1\n",
    "    \n",
    "    rf = RandomForestRegressor(n_estimators=30, n_jobs=-1)  #Define Random Forest Regressor \n",
    "    \n",
    "    for i in tqdm_notebook(range(2,len(V[0])), desc = 'Regression', leave = False):\n",
    "        X = paths[:,-i].reshape(-1,1)\n",
    "        Y = V[:,-i].reshape(-1,1)\n",
    "        \n",
    "        reg = rf.fit(X, Y.ravel())  # Polynomial regression (degree = 5)\n",
    "        \n",
    "        tmp = paths[:,-i-1]\n",
    "        for j in range(len(paths)):\n",
    "            tmp_Price = StockPath(100,sigma,tmp[j],deltaT,1,r,delta)\n",
    "            tmp_V = rf.predict(tmp_Price.reshape(-1,1))*np.exp(-r*deltaT)\n",
    "            H[j,-i-1] = np.mean(tmp_V)\n",
    "        V[:,-i-1] = np.maximum(P[:,-i-1], H[:,-i-1])\n",
    " \n",
    "    # Determine the optimal stopping time and payoffs\n",
    "    Payoff = [0]*len(P)\n",
    "    for i in range(len(P)):\n",
    "        idx = np.where(P[i,:]> H[i,:])[0]\n",
    "        if(len(idx) == 0):\n",
    "            Payoff[i] = V[i,-1]*np.exp(-r*T)\n",
    "        else:\n",
    "            Payoff[i] = V[i,idx[0]]*np.exp(-r*idx[0]*deltaT)\n",
    "\n",
    "    price = np.mean(Payoff)\n",
    "    variance = np.var(Payoff)\n",
    "    \n",
    "    return(Payoff, price, variance)    "
   ]
  },
  {
   "cell_type": "markdown",
   "metadata": {},
   "source": [
    "## Problem 5\n",
    "\n",
    "The `ConVariate` function can be used to estimate the price of American put option with\n",
    "- y = simulated European put payoffs\n",
    "- x = simulated American put payoffs\n",
    "- mu_x = true price of the European put option\n",
    "\n",
    "We also write a function `BSPut` to compute the true European put option price."
   ]
  },
  {
   "cell_type": "code",
   "execution_count": 39,
   "metadata": {},
   "outputs": [],
   "source": [
    "def ContVariate(y,x,mu_x):\n",
    "    \"\"\"\n",
    "    Implement the control variates method\n",
    "    \n",
    "    Inputs:\n",
    "        y: an array of samples with unknown mean\n",
    "        x: an array of samples with known or estimated mean\n",
    "        mu_x: mean of random variable X\n",
    "        \n",
    "    Returns:\n",
    "        y_hat: estimated mean of y\n",
    "        y_hatVar: variance of the estimator\n",
    "        \n",
    "    \"\"\"\n",
    "    \n",
    "    x_bar = np.mean(x)\n",
    "    y_bar = np.mean(y)\n",
    "    y_var = np.var(y)\n",
    "    corr = np.corrcoef(x,y)[0,1]\n",
    "    \n",
    "    beta = beta = np.cov(x,y)[0,1]/np.var(x)\n",
    "    y_hat = y_bar+beta*(mu_x-x_bar)\n",
    "    y_hatVar = (np.var(y)/len(y))*(1-corr**2)\n",
    "    \n",
    "    return(y_hat[0],y_hatVar)\n",
    "\n",
    "def BSput(S0, K, T, r, sigma,q):\n",
    "    \"\"\"\n",
    "    Compute true price of the European put using BS formula\n",
    "    \n",
    "    Inputs:\n",
    "        S0: current stock price\n",
    "        K: strike price\n",
    "        T: termial time\n",
    "        r: interest rate\n",
    "        sigma: volatility\n",
    "        q: continuous dividend\n",
    "        \n",
    "    Returns:\n",
    "        price: price of the option\n",
    "    \"\"\"\n",
    "    \n",
    "    d1 = (np.log(S0 / K) + (r - q + 0.5 * sigma ** 2) * T) / (sigma * np.sqrt(T))\n",
    "    d2 = (np.log(S0 / K) + (r - q - 0.5 * sigma ** 2) * T) / (sigma * np.sqrt(T))\n",
    "    \n",
    "    price = (K * np.exp(-r * T) * norm.cdf(-d2, 0.0, 1.0) - S0 * norm.cdf(-d1, 0.0, 1.0))\n",
    "    \n",
    "    return price"
   ]
  },
  {
   "cell_type": "markdown",
   "metadata": {},
   "source": [
    "## Problem 6: McDonald's Stock Analysis\n",
    "\n",
    "In this section, we apply AmeOptPrice function to McDonald's Corporation (MCD) to compute the price of MCD210618P00200000 with strike price 200. We will also compute the estimated price with control variates and argue that we should use control variates to estimate the price of American put options.\n",
    "\n",
    "### Volatility and continuous dividend yield\n",
    "\n",
    "\n",
    "We use historical prices and dividends between June 5, 2019 and June 3, 2020 to compute the stock volatility and continuous dividend yield. There are 252 trading days in total between June 5, 2019 and June 3, 2020. During this period, MCD paid dividends on Aug 30 2019, Nov 29 2019, Feb 28 2020, and May 29 2020. The dividends are 1.16, 1.25, 1.25, and 1.25 respectively. The stock prices are 217.97, 194.48, 194.17, and 186.32 respectively.\n",
    "\n",
    "The calibrated volatility and computed continuous dividend yield are shown below."
   ]
  },
  {
   "cell_type": "code",
   "execution_count": 51,
   "metadata": {},
   "outputs": [
    {
     "name": "stdout",
     "output_type": "stream",
     "text": [
      "The calibrated volatility is: 0.3972\n",
      "The continuous dividend yield is: 0.0248\n"
     ]
    }
   ],
   "source": [
    "import pandas as pd\n",
    "MCD = pd.read_excel('data/MCD.xlsx')\n",
    "\n",
    "#extract the LIBOR rate on June 3, 2020 and historical closing prices from the excel \n",
    "LIBOR = np.array(pd.DataFrame(MCD, columns=['LIBOR']))\n",
    "closingPrice = np.array(pd.DataFrame(MCD, columns=['Close']))\n",
    "histoPrice = np.zeros((1,252))\n",
    "for i in range(0,252):\n",
    "    histoPrice[0,i] = closingPrice[i][0]\n",
    "    \n",
    "#calculate the interest rate and continuous dividend yield\n",
    "r = LIBOR[-1]/100\n",
    "delta = np.log((1+(1.16/217.97))*(1+(1.25/194.48))*(1+(1.25/194.17))*(1+(1.25/186.32)))\n",
    "sigma = StockVol(histoPrice)\n",
    "\n",
    "print('The calibrated volatility is:',np.round(sigma,4))\n",
    "print('The continuous dividend yield is:', np.round(delta,4))"
   ]
  },
  {
   "cell_type": "markdown",
   "metadata": {},
   "source": [
    "### Estimated price without control variates\n",
    "\n",
    "We use weekly data (number of period = 52) and 100 paths to compute the estimated price of MCD210618P00200000. We only use 100 paths because it will take a long time to run the code if n is large."
   ]
  },
  {
   "cell_type": "code",
   "execution_count": 43,
   "metadata": {},
   "outputs": [
    {
     "data": {
      "application/vnd.jupyter.widget-view+json": {
       "model_id": "",
       "version_major": 2,
       "version_minor": 0
      },
      "text/plain": [
       "HBox(children=(IntProgress(value=0, description='Regression', max=51, style=ProgressStyle(description_width='i…"
      ]
     },
     "metadata": {},
     "output_type": "display_data"
    },
    {
     "name": "stdout",
     "output_type": "stream",
     "text": [
      "American Put Option price: 30.699343515584584\n",
      "Variance of payoffs: 978.3743195015397\n"
     ]
    }
   ],
   "source": [
    "# Simulate Path\n",
    "paths = StockPath(100,sigma,histoPrice[0][-1],1,52,r[0],delta)\n",
    "\n",
    "# American Put Option\n",
    "AmePut = AmeOptPrice(paths,200,r[0],1,52,delta,sigma)\n",
    "print(\"American Put Option price:\", AmePut[1])\n",
    "print('Variance of payoffs:',AmePut[2])"
   ]
  },
  {
   "cell_type": "markdown",
   "metadata": {},
   "source": [
    "### Estimated price with control variates\n",
    "\n",
    "We estimate the price of European put option with the same strike price using the same path and compute true price by Black-Scholes formula. Then we apply the control variates method to get a new estimated price of the American put option."
   ]
  },
  {
   "cell_type": "code",
   "execution_count": 50,
   "metadata": {},
   "outputs": [
    {
     "name": "stdout",
     "output_type": "stream",
     "text": [
      "True European Put Price: 33.60733581303151\n",
      "Estimated European Put Option price: 29.944856690745425\n",
      "Estimated American put Price with control variates: 33.51214137119189\n"
     ]
    }
   ],
   "source": [
    "# compute the true price of the American put by using the Black-Scholes model \n",
    "truePrice = BSput(histoPrice[0][-1], 200, 1, r, sigma, delta)\n",
    "print(\"True European Put Price:\",truePrice[0])\n",
    "\n",
    "# compute the price of the European put on MCD\n",
    "EurPut = EurOptPrice(paths, 200, r, 1)\n",
    "print(\"Estimated European Put Option price:\", EurPut[1])\n",
    "\n",
    "# apply the ContVariate function\n",
    "y_hat,y_hatVar = ContVariate(AmePut[0], EurPut[0], truePrice)\n",
    "print(\"Estimated American put Price with control variates:\",y_hat)"
   ]
  },
  {
   "cell_type": "markdown",
   "metadata": {},
   "source": [
    "The last price, bid price, and ask price of the option we choose are 34.70, 38.75, and 41.45 respectively (All information is from Yahoo Finance). From the results above, we can see that the price of the American put option calculated by control variates is closer to the market price."
   ]
  },
  {
   "cell_type": "markdown",
   "metadata": {},
   "source": [
    "### Variance Comparison\n",
    "\n",
    "If we do not use control variates, the variance of our estimator $\\hat Y$, mean of all the payoffs, is  $$Var(\\hat Y) = \\frac{\\sigma^2_Y}{n}$$ where $\\sigma^2_Y$ is the variance of payoffs and n is the number of paths simulated. According to results above, we can compute that the variance of our estimator is about 9.7. This is a relatively large number.\n",
    "\n",
    "Theoratically, the variance of the estimator $\\hat Y^*$ computed by the control variates is $$Var(\\hat Y^*) = \\frac{\\sigma^2_Y}{n}[1-corr^2(X,Y)]$$ where X is the payoffs of European put option and Y is the payoffs of American put option. Since $0 \\leq corr^2(X,Y) \\leq 1$, the estimator computed with control variates has smaller variance.\n",
    "\n",
    "We compute the estimated prices multiple times to verify that the variance of estimator computed by control variates is smaller than that of estimator computed without control variates. We use monthly data in this part to shorten the running time of the code."
   ]
  },
  {
   "cell_type": "code",
   "execution_count": 52,
   "metadata": {},
   "outputs": [
    {
     "data": {
      "application/vnd.jupyter.widget-view+json": {
       "model_id": "6fcec541b2c24fbca2658bfd034c2a4e",
       "version_major": 2,
       "version_minor": 0
      },
      "text/plain": [
       "HBox(children=(IntProgress(value=0, description='15 runs', max=15, style=ProgressStyle(description_width='init…"
      ]
     },
     "metadata": {},
     "output_type": "display_data"
    },
    {
     "data": {
      "application/vnd.jupyter.widget-view+json": {
       "model_id": "",
       "version_major": 2,
       "version_minor": 0
      },
      "text/plain": [
       "HBox(children=(IntProgress(value=0, description='Regression', max=11, style=ProgressStyle(description_width='i…"
      ]
     },
     "metadata": {},
     "output_type": "display_data"
    },
    {
     "data": {
      "application/vnd.jupyter.widget-view+json": {
       "model_id": "",
       "version_major": 2,
       "version_minor": 0
      },
      "text/plain": [
       "HBox(children=(IntProgress(value=0, description='Regression', max=11, style=ProgressStyle(description_width='i…"
      ]
     },
     "metadata": {},
     "output_type": "display_data"
    },
    {
     "data": {
      "application/vnd.jupyter.widget-view+json": {
       "model_id": "",
       "version_major": 2,
       "version_minor": 0
      },
      "text/plain": [
       "HBox(children=(IntProgress(value=0, description='Regression', max=11, style=ProgressStyle(description_width='i…"
      ]
     },
     "metadata": {},
     "output_type": "display_data"
    },
    {
     "data": {
      "application/vnd.jupyter.widget-view+json": {
       "model_id": "",
       "version_major": 2,
       "version_minor": 0
      },
      "text/plain": [
       "HBox(children=(IntProgress(value=0, description='Regression', max=11, style=ProgressStyle(description_width='i…"
      ]
     },
     "metadata": {},
     "output_type": "display_data"
    },
    {
     "data": {
      "application/vnd.jupyter.widget-view+json": {
       "model_id": "",
       "version_major": 2,
       "version_minor": 0
      },
      "text/plain": [
       "HBox(children=(IntProgress(value=0, description='Regression', max=11, style=ProgressStyle(description_width='i…"
      ]
     },
     "metadata": {},
     "output_type": "display_data"
    },
    {
     "data": {
      "application/vnd.jupyter.widget-view+json": {
       "model_id": "",
       "version_major": 2,
       "version_minor": 0
      },
      "text/plain": [
       "HBox(children=(IntProgress(value=0, description='Regression', max=11, style=ProgressStyle(description_width='i…"
      ]
     },
     "metadata": {},
     "output_type": "display_data"
    },
    {
     "data": {
      "application/vnd.jupyter.widget-view+json": {
       "model_id": "",
       "version_major": 2,
       "version_minor": 0
      },
      "text/plain": [
       "HBox(children=(IntProgress(value=0, description='Regression', max=11, style=ProgressStyle(description_width='i…"
      ]
     },
     "metadata": {},
     "output_type": "display_data"
    },
    {
     "data": {
      "application/vnd.jupyter.widget-view+json": {
       "model_id": "",
       "version_major": 2,
       "version_minor": 0
      },
      "text/plain": [
       "HBox(children=(IntProgress(value=0, description='Regression', max=11, style=ProgressStyle(description_width='i…"
      ]
     },
     "metadata": {},
     "output_type": "display_data"
    },
    {
     "data": {
      "application/vnd.jupyter.widget-view+json": {
       "model_id": "",
       "version_major": 2,
       "version_minor": 0
      },
      "text/plain": [
       "HBox(children=(IntProgress(value=0, description='Regression', max=11, style=ProgressStyle(description_width='i…"
      ]
     },
     "metadata": {},
     "output_type": "display_data"
    },
    {
     "data": {
      "application/vnd.jupyter.widget-view+json": {
       "model_id": "",
       "version_major": 2,
       "version_minor": 0
      },
      "text/plain": [
       "HBox(children=(IntProgress(value=0, description='Regression', max=11, style=ProgressStyle(description_width='i…"
      ]
     },
     "metadata": {},
     "output_type": "display_data"
    },
    {
     "data": {
      "application/vnd.jupyter.widget-view+json": {
       "model_id": "",
       "version_major": 2,
       "version_minor": 0
      },
      "text/plain": [
       "HBox(children=(IntProgress(value=0, description='Regression', max=11, style=ProgressStyle(description_width='i…"
      ]
     },
     "metadata": {},
     "output_type": "display_data"
    },
    {
     "data": {
      "application/vnd.jupyter.widget-view+json": {
       "model_id": "",
       "version_major": 2,
       "version_minor": 0
      },
      "text/plain": [
       "HBox(children=(IntProgress(value=0, description='Regression', max=11, style=ProgressStyle(description_width='i…"
      ]
     },
     "metadata": {},
     "output_type": "display_data"
    },
    {
     "data": {
      "application/vnd.jupyter.widget-view+json": {
       "model_id": "",
       "version_major": 2,
       "version_minor": 0
      },
      "text/plain": [
       "HBox(children=(IntProgress(value=0, description='Regression', max=11, style=ProgressStyle(description_width='i…"
      ]
     },
     "metadata": {},
     "output_type": "display_data"
    },
    {
     "data": {
      "application/vnd.jupyter.widget-view+json": {
       "model_id": "",
       "version_major": 2,
       "version_minor": 0
      },
      "text/plain": [
       "HBox(children=(IntProgress(value=0, description='Regression', max=11, style=ProgressStyle(description_width='i…"
      ]
     },
     "metadata": {},
     "output_type": "display_data"
    },
    {
     "data": {
      "application/vnd.jupyter.widget-view+json": {
       "model_id": "",
       "version_major": 2,
       "version_minor": 0
      },
      "text/plain": [
       "HBox(children=(IntProgress(value=0, description='Regression', max=11, style=ProgressStyle(description_width='i…"
      ]
     },
     "metadata": {},
     "output_type": "display_data"
    }
   ],
   "source": [
    "M = 15  # number of runs\n",
    "\n",
    "AmerP=[0]*M\n",
    "AmerP_CV=[0]*M\n",
    "AmerP_var=[0]*M\n",
    "\n",
    "for i in tqdm_notebook(range(M),desc = str(M)+' runs'):\n",
    "    paths = StockPath(100,sigma,histoPrice[0][-1],1,12,r[0],delta)\n",
    "    AP_temp=AmeOptPrice(paths,200,r[0],1,12,delta,sigma)\n",
    "    EP_temp=EurOptPrice(paths, 200, r, 1)\n",
    "    CV_temp=ContVariate(AP_temp[0], EP_temp[0], truePrice)\n",
    "    \n",
    "    AmerP[i] = AP_temp[1]\n",
    "    AmerP_CV[i] = CV_temp[0]\n",
    "    AmerP_var[i] = AP_temp[2]"
   ]
  },
  {
   "cell_type": "code",
   "execution_count": 65,
   "metadata": {
    "scrolled": false
   },
   "outputs": [
    {
     "data": {
      "text/html": [
       "\n",
       "<div id=\"altair-viz-1cb6edcfc6c44ead86ab24b26aea05c5\"></div>\n",
       "<script type=\"text/javascript\">\n",
       "  (function(spec, embedOpt){\n",
       "    let outputDiv = document.currentScript.previousElementSibling;\n",
       "    if (outputDiv.id !== \"altair-viz-1cb6edcfc6c44ead86ab24b26aea05c5\") {\n",
       "      outputDiv = document.getElementById(\"altair-viz-1cb6edcfc6c44ead86ab24b26aea05c5\");\n",
       "    }\n",
       "    const paths = {\n",
       "      \"vega\": \"https://cdn.jsdelivr.net/npm//vega@5?noext\",\n",
       "      \"vega-lib\": \"https://cdn.jsdelivr.net/npm//vega-lib?noext\",\n",
       "      \"vega-lite\": \"https://cdn.jsdelivr.net/npm//vega-lite@4.8.1?noext\",\n",
       "      \"vega-embed\": \"https://cdn.jsdelivr.net/npm//vega-embed@6?noext\",\n",
       "    };\n",
       "\n",
       "    function loadScript(lib) {\n",
       "      return new Promise(function(resolve, reject) {\n",
       "        var s = document.createElement('script');\n",
       "        s.src = paths[lib];\n",
       "        s.async = true;\n",
       "        s.onload = () => resolve(paths[lib]);\n",
       "        s.onerror = () => reject(`Error loading script: ${paths[lib]}`);\n",
       "        document.getElementsByTagName(\"head\")[0].appendChild(s);\n",
       "      });\n",
       "    }\n",
       "\n",
       "    function showError(err) {\n",
       "      outputDiv.innerHTML = `<div class=\"error\" style=\"color:red;\">${err}</div>`;\n",
       "      throw err;\n",
       "    }\n",
       "\n",
       "    function displayChart(vegaEmbed) {\n",
       "      vegaEmbed(outputDiv, spec, embedOpt)\n",
       "        .catch(err => showError(`Javascript Error: ${err.message}<br>This usually means there's a typo in your chart specification. See the javascript console for the full traceback.`));\n",
       "    }\n",
       "\n",
       "    if(typeof define === \"function\" && define.amd) {\n",
       "      requirejs.config({paths});\n",
       "      require([\"vega-embed\"], displayChart, err => showError(`Error loading script: ${err.message}`));\n",
       "    } else if (typeof vegaEmbed === \"function\") {\n",
       "      displayChart(vegaEmbed);\n",
       "    } else {\n",
       "      loadScript(\"vega\")\n",
       "        .then(() => loadScript(\"vega-lite\"))\n",
       "        .then(() => loadScript(\"vega-embed\"))\n",
       "        .catch(showError)\n",
       "        .then(() => displayChart(vegaEmbed));\n",
       "    }\n",
       "  })({\"config\": {\"view\": {\"continuousWidth\": 400, \"continuousHeight\": 300}}, \"hconcat\": [{\"layer\": [{\"data\": {\"name\": \"data-9b895cebed90faa9aacd3e3d49bb1aea\"}, \"mark\": \"bar\", \"encoding\": {\"x\": {\"type\": \"nominal\", \"field\": \"method\"}, \"y\": {\"type\": \"quantitative\", \"aggregate\": \"mean\", \"field\": \"price\", \"title\": \"Mean price\"}}, \"width\": {\"step\": 100}}, {\"mark\": {\"type\": \"errorbar\", \"extent\": \"ci\"}, \"encoding\": {\"x\": {\"type\": \"nominal\", \"field\": \"method\"}, \"y\": {\"type\": \"quantitative\", \"field\": \"price\"}}}], \"data\": {\"name\": \"data-9b895cebed90faa9aacd3e3d49bb1aea\"}, \"title\": \"Mean of estimated prices (15 runs)\"}, {\"data\": {\"name\": \"data-b6daf2241aef86ddf4217b2d495a8fc7\"}, \"mark\": {\"type\": \"area\", \"interpolate\": \"step\", \"opacity\": 0.3}, \"encoding\": {\"color\": {\"type\": \"nominal\", \"field\": \"Method\"}, \"x\": {\"type\": \"quantitative\", \"bin\": {\"maxbins\": 10}, \"field\": \"Estimated price\"}, \"y\": {\"type\": \"quantitative\", \"aggregate\": \"count\", \"stack\": null}}, \"title\": \"Histogram of estimated prices (15 runs)\", \"transform\": [{\"fold\": [\"Without Control Variate\", \"With Control Variate\"], \"as\": [\"Method\", \"Estimated price\"]}]}], \"$schema\": \"https://vega.github.io/schema/vega-lite/v4.8.1.json\", \"datasets\": {\"data-9b895cebed90faa9aacd3e3d49bb1aea\": [{\"price\": 38.10630938336954, \"method\": \"Without\"}, {\"price\": 34.42604705375644, \"method\": \"Without\"}, {\"price\": 33.85135714535047, \"method\": \"Without\"}, {\"price\": 40.573923420064375, \"method\": \"Without\"}, {\"price\": 35.596568764369856, \"method\": \"Without\"}, {\"price\": 31.19705920610899, \"method\": \"Without\"}, {\"price\": 33.69305167083833, \"method\": \"Without\"}, {\"price\": 37.65655658238359, \"method\": \"Without\"}, {\"price\": 41.16903540670348, \"method\": \"Without\"}, {\"price\": 36.86128535424987, \"method\": \"Without\"}, {\"price\": 33.77455273122956, \"method\": \"Without\"}, {\"price\": 28.881686652965556, \"method\": \"Without\"}, {\"price\": 33.46464817178588, \"method\": \"Without\"}, {\"price\": 32.111205861545, \"method\": \"Without\"}, {\"price\": 38.783414024439146, \"method\": \"Without\"}, {\"price\": 32.919294864881955, \"method\": \"With\"}, {\"price\": 30.620530114292485, \"method\": \"With\"}, {\"price\": 32.93481532644924, \"method\": \"With\"}, {\"price\": 35.0885159890267, \"method\": \"With\"}, {\"price\": 32.48550512262374, \"method\": \"With\"}, {\"price\": 32.4850020807528, \"method\": \"With\"}, {\"price\": 34.06854124519834, \"method\": \"With\"}, {\"price\": 35.448415821148, \"method\": \"With\"}, {\"price\": 35.82477805822809, \"method\": \"With\"}, {\"price\": 32.94260385736508, \"method\": \"With\"}, {\"price\": 34.36293987658223, \"method\": \"With\"}, {\"price\": 34.301320689064354, \"method\": \"With\"}, {\"price\": 33.41825811688799, \"method\": \"With\"}, {\"price\": 33.177987272122174, \"method\": \"With\"}, {\"price\": 35.32234412043533, \"method\": \"With\"}], \"data-b6daf2241aef86ddf4217b2d495a8fc7\": [{\"Without Control Variate\": 38.10630938336954, \"With Control Variate\": 32.919294864881955}, {\"Without Control Variate\": 34.42604705375644, \"With Control Variate\": 30.620530114292485}, {\"Without Control Variate\": 33.85135714535047, \"With Control Variate\": 32.93481532644924}, {\"Without Control Variate\": 40.573923420064375, \"With Control Variate\": 35.0885159890267}, {\"Without Control Variate\": 35.596568764369856, \"With Control Variate\": 32.48550512262374}, {\"Without Control Variate\": 31.19705920610899, \"With Control Variate\": 32.4850020807528}, {\"Without Control Variate\": 33.69305167083833, \"With Control Variate\": 34.06854124519834}, {\"Without Control Variate\": 37.65655658238359, \"With Control Variate\": 35.448415821148}, {\"Without Control Variate\": 41.16903540670348, \"With Control Variate\": 35.82477805822809}, {\"Without Control Variate\": 36.86128535424987, \"With Control Variate\": 32.94260385736508}, {\"Without Control Variate\": 33.77455273122956, \"With Control Variate\": 34.36293987658223}, {\"Without Control Variate\": 28.881686652965556, \"With Control Variate\": 34.301320689064354}, {\"Without Control Variate\": 33.46464817178588, \"With Control Variate\": 33.41825811688799}, {\"Without Control Variate\": 32.111205861545, \"With Control Variate\": 33.177987272122174}, {\"Without Control Variate\": 38.783414024439146, \"With Control Variate\": 35.32234412043533}]}}, {\"mode\": \"vega-lite\"});\n",
       "</script>"
      ],
      "text/plain": [
       "alt.HConcatChart(...)"
      ]
     },
     "execution_count": 65,
     "metadata": {},
     "output_type": "execute_result"
    }
   ],
   "source": [
    "import pandas as pd\n",
    "import altair as alt\n",
    "import numpy as np\n",
    "\n",
    "source1 = pd.DataFrame({\n",
    "    'Without Control Variate': AmerP,\n",
    "    'With Control Variate': AmerP_CV,\n",
    "})\n",
    "\n",
    "Chart1 = alt.Chart(source1).transform_fold(\n",
    "    ['Without Control Variate', 'With Control Variate'],\n",
    "    as_=['Method', 'Estimated price']\n",
    ").mark_area(\n",
    "    opacity=0.3,\n",
    "    interpolate='step'\n",
    ").encode(\n",
    "    alt.X('Estimated price:Q', bin=alt.Bin(maxbins=10)),\n",
    "    alt.Y('count()', stack=None),\n",
    "    alt.Color('Method:N')\n",
    ").properties(\n",
    "    title='Histogram of estimated prices (15 runs)'\n",
    ")\n",
    "\n",
    "source2 = pd.concat([pd.DataFrame({'price': AmerP, 'method':'Without'}),pd.DataFrame({'price': AmerP_CV, 'method':'With'})])\n",
    "\n",
    "bars = alt.Chart(source2).mark_bar().properties(\n",
    "    width=alt.Step(100)  # controls width of bar\n",
    ").encode(\n",
    "    x='method:N',\n",
    "    y=alt.Y('mean(price):Q', title='Mean price'),\n",
    "    #color = 'method:N'\n",
    ")\n",
    "\n",
    "error_bars = alt.Chart().mark_errorbar(extent='ci').encode(\n",
    "    x='method:N',\n",
    "    y='price:Q'\n",
    ")\n",
    "\n",
    "Chart2 = alt.layer(bars, error_bars, data=source).properties(\n",
    "    title='Mean of estimated prices (15 runs)'\n",
    ")\n",
    "\n",
    "Chart2 | Chart1"
   ]
  },
  {
   "cell_type": "code",
   "execution_count": 71,
   "metadata": {},
   "outputs": [
    {
     "name": "stdout",
     "output_type": "stream",
     "text": [
      "The variance of estimator without control vairates is: 11.310523920720048\n",
      "The variance of estimator without control vairates is: 1.841516349614671\n"
     ]
    }
   ],
   "source": [
    "print(\"The variance of estimator without control vairates is:\", np.var(AmerP))\n",
    "print(\"The variance of estimator without control vairates is:\", np.var(AmerP_CV))"
   ]
  },
  {
   "cell_type": "markdown",
   "metadata": {},
   "source": [
    "We can see that the estimator without control variates have greater mean and larger confidence interval (black bar in the first plot). After calculating the variance of each estimator, we observe that the variance of estimator computed with control variates is much smaller than that of the other estimator. Thus, we should use control variates to estimate the price of American put options."
   ]
  }
 ],
 "metadata": {
  "kernelspec": {
   "display_name": "Python 3",
   "language": "python",
   "name": "python3"
  },
  "language_info": {
   "codemirror_mode": {
    "name": "ipython",
    "version": 3
   },
   "file_extension": ".py",
   "mimetype": "text/x-python",
   "name": "python",
   "nbconvert_exporter": "python",
   "pygments_lexer": "ipython3",
   "version": "3.7.1"
  },
  "toc": {
   "base_numbering": 1,
   "nav_menu": {},
   "number_sections": true,
   "sideBar": true,
   "skip_h1_title": false,
   "title_cell": "Table of Contents",
   "title_sidebar": "Contents",
   "toc_cell": false,
   "toc_position": {},
   "toc_section_display": true,
   "toc_window_display": false
  }
 },
 "nbformat": 4,
 "nbformat_minor": 2
}
